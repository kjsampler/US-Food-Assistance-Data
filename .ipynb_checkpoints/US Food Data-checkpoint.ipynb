{
 "cells": [
  {
   "cell_type": "markdown",
   "metadata": {},
   "source": [
    "The purpose of this notebook will be to intake the data, clean, and start making explorations. If a question is decided on, the cleaning can be tailored to the needs of the project."
   ]
  },
  {
   "cell_type": "markdown",
   "metadata": {},
   "source": [
    "Week 6/7 - 6/13 To-Do:\n",
    "* extract files from .zip\n",
    "* pull into pandas dataframe\n",
    "* identify and extract null values"
   ]
  },
  {
   "cell_type": "code",
   "execution_count": 6,
   "metadata": {},
   "outputs": [],
   "source": [
    "import pandas as pd\n",
    "import zipfile"
   ]
  },
  {
   "cell_type": "markdown",
   "metadata": {},
   "source": [
    "Because the file is zipped (and meets the storage requirements of GitHub that way), I'll map out what the folders are, and see how large the files would be unzipped.  \n",
    "Perhaps for data exploration, I'll open one and see what I think of it- it's possible that I may not even want all of them. "
   ]
  },
  {
   "cell_type": "markdown",
   "metadata": {},
   "source": [
    "data:\n",
    "    est13_16us\n",
    "        est13us\n",
    "        est14us\n",
    "        est15us\n",
    "        est16us\n",
    "    SNAP_FY2010_FY2020\n",
    "        FY10\n",
    "        FY11\n",
    "        ...\n",
    "        FY20\n",
    "    WICAgencies2013ytd ... WICAgencies2016ytd\n",
    "        Average_Food_Cost_Per_Person\n",
    "        Children_Participating\n",
    "        Food_Costs\n",
    "        Infants_Fully_Breastfed\n",
    "        Infants_Fully_Formula-fed\n",
    "        Infants_Partially_Breastfed\n",
    "        Nut_Services_Admin_Costs\n",
    "        Postpartum_Women_Participating\n",
    "        Pregnant_Women_Participating\n",
    "        Rebates_Received\n",
    "        Total_Breastfeeding_Women\n",
    "        Total_Infants\n",
    "        Total_Number_of_Participants\n",
    "        Total_Women\n",
    "        Women_Fully_Breastfeeding\n",
    "        Women_Partially_Breastfeeding\n",
    "    SNAP_history_1969_2019"
   ]
  },
  {
   "cell_type": "markdown",
   "metadata": {},
   "source": [
    "Now that I have a schema, time to start exploring this data\n",
    "* Check out WIC categories (breadth of info)\n",
    "* Columns of SNAP history (and null values)\n",
    "* open at least one of each and see what it's about! "
   ]
  },
  {
   "cell_type": "code",
   "execution_count": 10,
   "metadata": {},
   "outputs": [
    {
     "ename": "SyntaxError",
     "evalue": "invalid syntax (<ipython-input-10-33a7e325868a>, line 2)",
     "output_type": "error",
     "traceback": [
      "\u001b[1;36m  File \u001b[1;32m\"<ipython-input-10-33a7e325868a>\"\u001b[1;36m, line \u001b[1;32m2\u001b[0m\n\u001b[1;33m    z.open(*)\u001b[0m\n\u001b[1;37m            ^\u001b[0m\n\u001b[1;31mSyntaxError\u001b[0m\u001b[1;31m:\u001b[0m invalid syntax\n"
     ]
    }
   ],
   "source": [
    "with zipfile.ZipFile('Food Assistance Data.zip') as z:\n",
    "    z.open(*)\n",
    "#need specific folder to open\n",
    "#will probably leave it zipped for simplicity sake"
   ]
  },
  {
   "cell_type": "code",
   "execution_count": null,
   "metadata": {},
   "outputs": [],
   "source": []
  }
 ],
 "metadata": {
  "kernelspec": {
   "display_name": "Python 3",
   "language": "python",
   "name": "python3"
  },
  "language_info": {
   "codemirror_mode": {
    "name": "ipython",
    "version": 3
   },
   "file_extension": ".py",
   "mimetype": "text/x-python",
   "name": "python",
   "nbconvert_exporter": "python",
   "pygments_lexer": "ipython3",
   "version": "3.7.3"
  }
 },
 "nbformat": 4,
 "nbformat_minor": 2
}
